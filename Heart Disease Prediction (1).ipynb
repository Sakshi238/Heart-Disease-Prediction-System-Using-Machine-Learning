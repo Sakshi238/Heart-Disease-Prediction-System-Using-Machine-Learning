{
 "cells": [
  {
   "cell_type": "code",
   "execution_count": 56,
   "id": "319364f8",
   "metadata": {},
   "outputs": [],
   "source": [
    "import numpy as np\n",
    "import pandas as pd\n",
    "import matplotlib.pyplot as plt\n",
    "import seaborn as sns\n",
    "from sklearn.model_selection import train_test_split\n",
    "from sklearn.linear_model import LogisticRegression\n",
    "from sklearn.metrics import accuracy_score, confusion_matrix\n",
    "from sklearn.tree import DecisionTreeClassifier\n",
    "from sklearn.ensemble import RandomForestClassifier\n",
    "from sklearn.metrics import classification_report"
   ]
  },
  {
   "cell_type": "code",
   "execution_count": 57,
   "id": "6f28f8b1",
   "metadata": {},
   "outputs": [],
   "source": [
    "heart_data= pd.read_csv('heart.csv')"
   ]
  },
  {
   "cell_type": "code",
   "execution_count": 58,
   "id": "2cec8af0",
   "metadata": {},
   "outputs": [
    {
     "data": {
      "text/html": [
       "<div>\n",
       "<style scoped>\n",
       "    .dataframe tbody tr th:only-of-type {\n",
       "        vertical-align: middle;\n",
       "    }\n",
       "\n",
       "    .dataframe tbody tr th {\n",
       "        vertical-align: top;\n",
       "    }\n",
       "\n",
       "    .dataframe thead th {\n",
       "        text-align: right;\n",
       "    }\n",
       "</style>\n",
       "<table border=\"1\" class=\"dataframe\">\n",
       "  <thead>\n",
       "    <tr style=\"text-align: right;\">\n",
       "      <th></th>\n",
       "      <th>Age</th>\n",
       "      <th>Sex</th>\n",
       "      <th>ChestPainType</th>\n",
       "      <th>RestingBP</th>\n",
       "      <th>Cholesterol</th>\n",
       "      <th>FastingBS</th>\n",
       "      <th>RestingECG</th>\n",
       "      <th>MaxHR</th>\n",
       "      <th>ExerciseAngina</th>\n",
       "      <th>Oldpeak</th>\n",
       "      <th>ST_Slope</th>\n",
       "      <th>HeartDisease</th>\n",
       "    </tr>\n",
       "  </thead>\n",
       "  <tbody>\n",
       "    <tr>\n",
       "      <th>0</th>\n",
       "      <td>40</td>\n",
       "      <td>M</td>\n",
       "      <td>ATA</td>\n",
       "      <td>140</td>\n",
       "      <td>289</td>\n",
       "      <td>0</td>\n",
       "      <td>Normal</td>\n",
       "      <td>172</td>\n",
       "      <td>N</td>\n",
       "      <td>0.0</td>\n",
       "      <td>Up</td>\n",
       "      <td>0</td>\n",
       "    </tr>\n",
       "    <tr>\n",
       "      <th>1</th>\n",
       "      <td>49</td>\n",
       "      <td>F</td>\n",
       "      <td>NAP</td>\n",
       "      <td>160</td>\n",
       "      <td>180</td>\n",
       "      <td>0</td>\n",
       "      <td>Normal</td>\n",
       "      <td>156</td>\n",
       "      <td>N</td>\n",
       "      <td>1.0</td>\n",
       "      <td>Flat</td>\n",
       "      <td>1</td>\n",
       "    </tr>\n",
       "    <tr>\n",
       "      <th>2</th>\n",
       "      <td>37</td>\n",
       "      <td>M</td>\n",
       "      <td>ATA</td>\n",
       "      <td>130</td>\n",
       "      <td>283</td>\n",
       "      <td>0</td>\n",
       "      <td>ST</td>\n",
       "      <td>98</td>\n",
       "      <td>N</td>\n",
       "      <td>0.0</td>\n",
       "      <td>Up</td>\n",
       "      <td>0</td>\n",
       "    </tr>\n",
       "    <tr>\n",
       "      <th>3</th>\n",
       "      <td>48</td>\n",
       "      <td>F</td>\n",
       "      <td>ASY</td>\n",
       "      <td>138</td>\n",
       "      <td>214</td>\n",
       "      <td>0</td>\n",
       "      <td>Normal</td>\n",
       "      <td>108</td>\n",
       "      <td>Y</td>\n",
       "      <td>1.5</td>\n",
       "      <td>Flat</td>\n",
       "      <td>1</td>\n",
       "    </tr>\n",
       "    <tr>\n",
       "      <th>4</th>\n",
       "      <td>54</td>\n",
       "      <td>M</td>\n",
       "      <td>NAP</td>\n",
       "      <td>150</td>\n",
       "      <td>195</td>\n",
       "      <td>0</td>\n",
       "      <td>Normal</td>\n",
       "      <td>122</td>\n",
       "      <td>N</td>\n",
       "      <td>0.0</td>\n",
       "      <td>Up</td>\n",
       "      <td>0</td>\n",
       "    </tr>\n",
       "  </tbody>\n",
       "</table>\n",
       "</div>"
      ],
      "text/plain": [
       "   Age Sex ChestPainType  RestingBP  Cholesterol  FastingBS RestingECG  MaxHR  \\\n",
       "0   40   M           ATA        140          289          0     Normal    172   \n",
       "1   49   F           NAP        160          180          0     Normal    156   \n",
       "2   37   M           ATA        130          283          0         ST     98   \n",
       "3   48   F           ASY        138          214          0     Normal    108   \n",
       "4   54   M           NAP        150          195          0     Normal    122   \n",
       "\n",
       "  ExerciseAngina  Oldpeak ST_Slope  HeartDisease  \n",
       "0              N      0.0       Up             0  \n",
       "1              N      1.0     Flat             1  \n",
       "2              N      0.0       Up             0  \n",
       "3              Y      1.5     Flat             1  \n",
       "4              N      0.0       Up             0  "
      ]
     },
     "execution_count": 58,
     "metadata": {},
     "output_type": "execute_result"
    }
   ],
   "source": [
    "heart_data.head()"
   ]
  },
  {
   "cell_type": "code",
   "execution_count": 59,
   "id": "f9921bf2",
   "metadata": {},
   "outputs": [
    {
     "name": "stdout",
     "output_type": "stream",
     "text": [
      "<class 'pandas.core.frame.DataFrame'>\n",
      "RangeIndex: 918 entries, 0 to 917\n",
      "Data columns (total 12 columns):\n",
      " #   Column          Non-Null Count  Dtype  \n",
      "---  ------          --------------  -----  \n",
      " 0   Age             918 non-null    int64  \n",
      " 1   Sex             918 non-null    object \n",
      " 2   ChestPainType   918 non-null    object \n",
      " 3   RestingBP       918 non-null    int64  \n",
      " 4   Cholesterol     918 non-null    int64  \n",
      " 5   FastingBS       918 non-null    int64  \n",
      " 6   RestingECG      918 non-null    object \n",
      " 7   MaxHR           918 non-null    int64  \n",
      " 8   ExerciseAngina  918 non-null    object \n",
      " 9   Oldpeak         918 non-null    float64\n",
      " 10  ST_Slope        918 non-null    object \n",
      " 11  HeartDisease    918 non-null    int64  \n",
      "dtypes: float64(1), int64(6), object(5)\n",
      "memory usage: 86.2+ KB\n"
     ]
    }
   ],
   "source": [
    "heart_data.info()"
   ]
  },
  {
   "cell_type": "code",
   "execution_count": 60,
   "id": "c89cf24f",
   "metadata": {},
   "outputs": [
    {
     "data": {
      "text/html": [
       "<div>\n",
       "<style scoped>\n",
       "    .dataframe tbody tr th:only-of-type {\n",
       "        vertical-align: middle;\n",
       "    }\n",
       "\n",
       "    .dataframe tbody tr th {\n",
       "        vertical-align: top;\n",
       "    }\n",
       "\n",
       "    .dataframe thead th {\n",
       "        text-align: right;\n",
       "    }\n",
       "</style>\n",
       "<table border=\"1\" class=\"dataframe\">\n",
       "  <thead>\n",
       "    <tr style=\"text-align: right;\">\n",
       "      <th></th>\n",
       "      <th>Age</th>\n",
       "      <th>RestingBP</th>\n",
       "      <th>Cholesterol</th>\n",
       "      <th>FastingBS</th>\n",
       "      <th>MaxHR</th>\n",
       "      <th>Oldpeak</th>\n",
       "      <th>HeartDisease</th>\n",
       "    </tr>\n",
       "  </thead>\n",
       "  <tbody>\n",
       "    <tr>\n",
       "      <th>count</th>\n",
       "      <td>918.000000</td>\n",
       "      <td>918.000000</td>\n",
       "      <td>918.000000</td>\n",
       "      <td>918.000000</td>\n",
       "      <td>918.000000</td>\n",
       "      <td>918.000000</td>\n",
       "      <td>918.000000</td>\n",
       "    </tr>\n",
       "    <tr>\n",
       "      <th>mean</th>\n",
       "      <td>53.510893</td>\n",
       "      <td>132.396514</td>\n",
       "      <td>198.799564</td>\n",
       "      <td>0.233115</td>\n",
       "      <td>136.809368</td>\n",
       "      <td>0.887364</td>\n",
       "      <td>0.553377</td>\n",
       "    </tr>\n",
       "    <tr>\n",
       "      <th>std</th>\n",
       "      <td>9.432617</td>\n",
       "      <td>18.514154</td>\n",
       "      <td>109.384145</td>\n",
       "      <td>0.423046</td>\n",
       "      <td>25.460334</td>\n",
       "      <td>1.066570</td>\n",
       "      <td>0.497414</td>\n",
       "    </tr>\n",
       "    <tr>\n",
       "      <th>min</th>\n",
       "      <td>28.000000</td>\n",
       "      <td>0.000000</td>\n",
       "      <td>0.000000</td>\n",
       "      <td>0.000000</td>\n",
       "      <td>60.000000</td>\n",
       "      <td>-2.600000</td>\n",
       "      <td>0.000000</td>\n",
       "    </tr>\n",
       "    <tr>\n",
       "      <th>25%</th>\n",
       "      <td>47.000000</td>\n",
       "      <td>120.000000</td>\n",
       "      <td>173.250000</td>\n",
       "      <td>0.000000</td>\n",
       "      <td>120.000000</td>\n",
       "      <td>0.000000</td>\n",
       "      <td>0.000000</td>\n",
       "    </tr>\n",
       "    <tr>\n",
       "      <th>50%</th>\n",
       "      <td>54.000000</td>\n",
       "      <td>130.000000</td>\n",
       "      <td>223.000000</td>\n",
       "      <td>0.000000</td>\n",
       "      <td>138.000000</td>\n",
       "      <td>0.600000</td>\n",
       "      <td>1.000000</td>\n",
       "    </tr>\n",
       "    <tr>\n",
       "      <th>75%</th>\n",
       "      <td>60.000000</td>\n",
       "      <td>140.000000</td>\n",
       "      <td>267.000000</td>\n",
       "      <td>0.000000</td>\n",
       "      <td>156.000000</td>\n",
       "      <td>1.500000</td>\n",
       "      <td>1.000000</td>\n",
       "    </tr>\n",
       "    <tr>\n",
       "      <th>max</th>\n",
       "      <td>77.000000</td>\n",
       "      <td>200.000000</td>\n",
       "      <td>603.000000</td>\n",
       "      <td>1.000000</td>\n",
       "      <td>202.000000</td>\n",
       "      <td>6.200000</td>\n",
       "      <td>1.000000</td>\n",
       "    </tr>\n",
       "  </tbody>\n",
       "</table>\n",
       "</div>"
      ],
      "text/plain": [
       "              Age   RestingBP  Cholesterol   FastingBS       MaxHR  \\\n",
       "count  918.000000  918.000000   918.000000  918.000000  918.000000   \n",
       "mean    53.510893  132.396514   198.799564    0.233115  136.809368   \n",
       "std      9.432617   18.514154   109.384145    0.423046   25.460334   \n",
       "min     28.000000    0.000000     0.000000    0.000000   60.000000   \n",
       "25%     47.000000  120.000000   173.250000    0.000000  120.000000   \n",
       "50%     54.000000  130.000000   223.000000    0.000000  138.000000   \n",
       "75%     60.000000  140.000000   267.000000    0.000000  156.000000   \n",
       "max     77.000000  200.000000   603.000000    1.000000  202.000000   \n",
       "\n",
       "          Oldpeak  HeartDisease  \n",
       "count  918.000000    918.000000  \n",
       "mean     0.887364      0.553377  \n",
       "std      1.066570      0.497414  \n",
       "min     -2.600000      0.000000  \n",
       "25%      0.000000      0.000000  \n",
       "50%      0.600000      1.000000  \n",
       "75%      1.500000      1.000000  \n",
       "max      6.200000      1.000000  "
      ]
     },
     "execution_count": 60,
     "metadata": {},
     "output_type": "execute_result"
    }
   ],
   "source": [
    "heart_data.describe()"
   ]
  },
  {
   "cell_type": "code",
   "execution_count": 61,
   "id": "e5bb0d0e",
   "metadata": {},
   "outputs": [
    {
     "data": {
      "text/plain": [
       "Age               0\n",
       "Sex               0\n",
       "ChestPainType     0\n",
       "RestingBP         0\n",
       "Cholesterol       0\n",
       "FastingBS         0\n",
       "RestingECG        0\n",
       "MaxHR             0\n",
       "ExerciseAngina    0\n",
       "Oldpeak           0\n",
       "ST_Slope          0\n",
       "HeartDisease      0\n",
       "dtype: int64"
      ]
     },
     "execution_count": 61,
     "metadata": {},
     "output_type": "execute_result"
    }
   ],
   "source": [
    "heart_data.isnull().sum()"
   ]
  },
  {
   "cell_type": "code",
   "execution_count": 62,
   "id": "8ad1dc30",
   "metadata": {
    "scrolled": true
   },
   "outputs": [
    {
     "name": "stdout",
     "output_type": "stream",
     "text": [
      "There are 918 rows and  12 coloums in dataset\n"
     ]
    }
   ],
   "source": [
    "print('There are', heart_data.shape[0],'rows and ',heart_data.shape[1],'coloums in dataset')"
   ]
  },
  {
   "cell_type": "code",
   "execution_count": 63,
   "id": "d469c7cc",
   "metadata": {},
   "outputs": [
    {
     "data": {
      "text/plain": [
       "1    508\n",
       "0    410\n",
       "Name: HeartDisease, dtype: int64"
      ]
     },
     "execution_count": 63,
     "metadata": {},
     "output_type": "execute_result"
    }
   ],
   "source": [
    "# checking the distribution of Target Variable\n",
    "heart_data['HeartDisease'].value_counts()"
   ]
  },
  {
   "cell_type": "code",
   "execution_count": 64,
   "id": "47c0f3e1",
   "metadata": {},
   "outputs": [
    {
     "data": {
      "text/plain": [
       "array(['M', 'F'], dtype=object)"
      ]
     },
     "execution_count": 64,
     "metadata": {},
     "output_type": "execute_result"
    }
   ],
   "source": [
    "heart_data['Sex'].unique()"
   ]
  },
  {
   "cell_type": "code",
   "execution_count": 65,
   "id": "5e00508d",
   "metadata": {},
   "outputs": [],
   "source": [
    "heart_data['Sex'].replace('F',1, inplace=True)\n",
    "heart_data['Sex'].replace('M',0, inplace=True)"
   ]
  },
  {
   "cell_type": "code",
   "execution_count": 66,
   "id": "d80a2698",
   "metadata": {},
   "outputs": [
    {
     "data": {
      "text/plain": [
       "array(['ATA', 'NAP', 'ASY', 'TA'], dtype=object)"
      ]
     },
     "execution_count": 66,
     "metadata": {},
     "output_type": "execute_result"
    }
   ],
   "source": [
    "heart_data['ChestPainType'].unique()"
   ]
  },
  {
   "cell_type": "code",
   "execution_count": 67,
   "id": "3ffdaa42",
   "metadata": {},
   "outputs": [],
   "source": [
    "heart_data['ChestPainType'].replace('ATA',0, inplace=True)\n",
    "heart_data['ChestPainType'].replace('NAP',1, inplace=True)\n",
    "heart_data['ChestPainType'].replace('TA',2, inplace=True)\n",
    "heart_data['ChestPainType'].replace('ASY',3, inplace=True)"
   ]
  },
  {
   "cell_type": "code",
   "execution_count": 68,
   "id": "018ba766",
   "metadata": {},
   "outputs": [
    {
     "data": {
      "text/plain": [
       "array(['Normal', 'ST', 'LVH'], dtype=object)"
      ]
     },
     "execution_count": 68,
     "metadata": {},
     "output_type": "execute_result"
    }
   ],
   "source": [
    "heart_data['RestingECG'].unique()"
   ]
  },
  {
   "cell_type": "code",
   "execution_count": 69,
   "id": "b7851d50",
   "metadata": {},
   "outputs": [],
   "source": [
    "heart_data['RestingECG'].replace('Normal',0, inplace=True)\n",
    "heart_data['RestingECG'].replace('ST', 1, inplace=True)\n",
    "heart_data['RestingECG'].replace('LVH',2, inplace=True)"
   ]
  },
  {
   "cell_type": "code",
   "execution_count": 70,
   "id": "ee339003",
   "metadata": {},
   "outputs": [
    {
     "data": {
      "text/plain": [
       "array(['Up', 'Flat', 'Down'], dtype=object)"
      ]
     },
     "execution_count": 70,
     "metadata": {},
     "output_type": "execute_result"
    }
   ],
   "source": [
    "heart_data['ST_Slope'].unique()"
   ]
  },
  {
   "cell_type": "code",
   "execution_count": 71,
   "id": "293853b6",
   "metadata": {},
   "outputs": [],
   "source": [
    "heart_data['ST_Slope'].replace('Up',0, inplace=True)\n",
    "heart_data['ST_Slope'].replace('Flat', 1, inplace=True)\n",
    "heart_data['ST_Slope'].replace('Down',2, inplace=True)"
   ]
  },
  {
   "cell_type": "code",
   "execution_count": 72,
   "id": "4ed9e79c",
   "metadata": {},
   "outputs": [
    {
     "data": {
      "text/plain": [
       "array(['N', 'Y'], dtype=object)"
      ]
     },
     "execution_count": 72,
     "metadata": {},
     "output_type": "execute_result"
    }
   ],
   "source": [
    "heart_data['ExerciseAngina'].unique()"
   ]
  },
  {
   "cell_type": "code",
   "execution_count": 73,
   "id": "df59bbe0",
   "metadata": {},
   "outputs": [],
   "source": [
    "heart_data['ExerciseAngina'].replace('Y',0, inplace=True)\n",
    "heart_data['ExerciseAngina'].replace('N', 1, inplace=True)\n"
   ]
  },
  {
   "cell_type": "code",
   "execution_count": 74,
   "id": "22c841cc",
   "metadata": {},
   "outputs": [
    {
     "name": "stderr",
     "output_type": "stream",
     "text": [
      "C:\\Users\\Sakshi\\anaconda3\\lib\\site-packages\\seaborn\\distributions.py:2557: FutureWarning: `distplot` is a deprecated function and will be removed in a future version. Please adapt your code to use either `displot` (a figure-level function with similar flexibility) or `histplot` (an axes-level function for histograms).\n",
      "  warnings.warn(msg, FutureWarning)\n"
     ]
    },
    {
     "data": {
      "text/plain": [
       "<AxesSubplot:xlabel='HeartDisease', ylabel='Density'>"
      ]
     },
     "execution_count": 74,
     "metadata": {},
     "output_type": "execute_result"
    },
    {
     "data": {
      "image/png": "[encoded data removed]",
      "text/plain": [
       "<Figure size 432x288 with 1 Axes>"
      ]
     },
     "metadata": {
      "needs_background": "light"
     },
     "output_type": "display_data"
    }
   ],
   "source": [
    "sns.distplot(heart_data['HeartDisease'])"
   ]
  },
  {
   "cell_type": "code",
   "execution_count": 75,
   "id": "9ab7806f",
   "metadata": {},
   "outputs": [
    {
     "data": {
      "text/html": [
       "<div>\n",
       "<style scoped>\n",
       "    .dataframe tbody tr th:only-of-type {\n",
       "        vertical-align: middle;\n",
       "    }\n",
       "\n",
       "    .dataframe tbody tr th {\n",
       "        vertical-align: top;\n",
       "    }\n",
       "\n",
       "    .dataframe thead th {\n",
       "        text-align: right;\n",
       "    }\n",
       "</style>\n",
       "<table border=\"1\" class=\"dataframe\">\n",
       "  <thead>\n",
       "    <tr style=\"text-align: right;\">\n",
       "      <th></th>\n",
       "      <th>Age</th>\n",
       "      <th>Sex</th>\n",
       "      <th>ChestPainType</th>\n",
       "      <th>RestingBP</th>\n",
       "      <th>Cholesterol</th>\n",
       "      <th>FastingBS</th>\n",
       "      <th>RestingECG</th>\n",
       "      <th>MaxHR</th>\n",
       "      <th>ExerciseAngina</th>\n",
       "      <th>Oldpeak</th>\n",
       "      <th>ST_Slope</th>\n",
       "      <th>HeartDisease</th>\n",
       "    </tr>\n",
       "  </thead>\n",
       "  <tbody>\n",
       "    <tr>\n",
       "      <th>Age</th>\n",
       "      <td>1.000000</td>\n",
       "      <td>-0.055750</td>\n",
       "      <td>0.210128</td>\n",
       "      <td>0.254399</td>\n",
       "      <td>-0.095282</td>\n",
       "      <td>0.198039</td>\n",
       "      <td>0.213152</td>\n",
       "      <td>-0.382045</td>\n",
       "      <td>-0.215793</td>\n",
       "      <td>0.258612</td>\n",
       "      <td>0.268264</td>\n",
       "      <td>0.282039</td>\n",
       "    </tr>\n",
       "    <tr>\n",
       "      <th>Sex</th>\n",
       "      <td>-0.055750</td>\n",
       "      <td>1.000000</td>\n",
       "      <td>-0.199711</td>\n",
       "      <td>-0.005133</td>\n",
       "      <td>0.200092</td>\n",
       "      <td>-0.120076</td>\n",
       "      <td>0.018343</td>\n",
       "      <td>0.189186</td>\n",
       "      <td>0.190664</td>\n",
       "      <td>-0.105734</td>\n",
       "      <td>-0.150693</td>\n",
       "      <td>-0.305445</td>\n",
       "    </tr>\n",
       "    <tr>\n",
       "      <th>ChestPainType</th>\n",
       "      <td>0.210128</td>\n",
       "      <td>-0.199711</td>\n",
       "      <td>1.000000</td>\n",
       "      <td>0.063102</td>\n",
       "      <td>-0.142636</td>\n",
       "      <td>0.155795</td>\n",
       "      <td>0.080268</td>\n",
       "      <td>-0.350695</td>\n",
       "      <td>-0.421398</td>\n",
       "      <td>0.316083</td>\n",
       "      <td>0.379397</td>\n",
       "      <td>0.536974</td>\n",
       "    </tr>\n",
       "    <tr>\n",
       "      <th>RestingBP</th>\n",
       "      <td>0.254399</td>\n",
       "      <td>-0.005133</td>\n",
       "      <td>0.063102</td>\n",
       "      <td>1.000000</td>\n",
       "      <td>0.100893</td>\n",
       "      <td>0.070193</td>\n",
       "      <td>0.097661</td>\n",
       "      <td>-0.112135</td>\n",
       "      <td>-0.155101</td>\n",
       "      <td>0.164803</td>\n",
       "      <td>0.075162</td>\n",
       "      <td>0.107589</td>\n",
       "    </tr>\n",
       "    <tr>\n",
       "      <th>Cholesterol</th>\n",
       "      <td>-0.095282</td>\n",
       "      <td>0.200092</td>\n",
       "      <td>-0.142636</td>\n",
       "      <td>0.100893</td>\n",
       "      <td>1.000000</td>\n",
       "      <td>-0.260974</td>\n",
       "      <td>0.112095</td>\n",
       "      <td>0.235792</td>\n",
       "      <td>0.034166</td>\n",
       "      <td>0.050148</td>\n",
       "      <td>-0.111471</td>\n",
       "      <td>-0.232741</td>\n",
       "    </tr>\n",
       "    <tr>\n",
       "      <th>FastingBS</th>\n",
       "      <td>0.198039</td>\n",
       "      <td>-0.120076</td>\n",
       "      <td>0.155795</td>\n",
       "      <td>0.070193</td>\n",
       "      <td>-0.260974</td>\n",
       "      <td>1.000000</td>\n",
       "      <td>0.050707</td>\n",
       "      <td>-0.131438</td>\n",
       "      <td>-0.060451</td>\n",
       "      <td>0.052698</td>\n",
       "      <td>0.175774</td>\n",
       "      <td>0.267291</td>\n",
       "    </tr>\n",
       "    <tr>\n",
       "      <th>RestingECG</th>\n",
       "      <td>0.213152</td>\n",
       "      <td>0.018343</td>\n",
       "      <td>0.080268</td>\n",
       "      <td>0.097661</td>\n",
       "      <td>0.112095</td>\n",
       "      <td>0.050707</td>\n",
       "      <td>1.000000</td>\n",
       "      <td>0.048552</td>\n",
       "      <td>-0.036119</td>\n",
       "      <td>0.114428</td>\n",
       "      <td>0.078807</td>\n",
       "      <td>0.061011</td>\n",
       "    </tr>\n",
       "    <tr>\n",
       "      <th>MaxHR</th>\n",
       "      <td>-0.382045</td>\n",
       "      <td>0.189186</td>\n",
       "      <td>-0.350695</td>\n",
       "      <td>-0.112135</td>\n",
       "      <td>0.235792</td>\n",
       "      <td>-0.131438</td>\n",
       "      <td>0.048552</td>\n",
       "      <td>1.000000</td>\n",
       "      <td>0.370425</td>\n",
       "      <td>-0.160691</td>\n",
       "      <td>-0.343419</td>\n",
       "      <td>-0.400421</td>\n",
       "    </tr>\n",
       "    <tr>\n",
       "      <th>ExerciseAngina</th>\n",
       "      <td>-0.215793</td>\n",
       "      <td>0.190664</td>\n",
       "      <td>-0.421398</td>\n",
       "      <td>-0.155101</td>\n",
       "      <td>0.034166</td>\n",
       "      <td>-0.060451</td>\n",
       "      <td>-0.036119</td>\n",
       "      <td>0.370425</td>\n",
       "      <td>1.000000</td>\n",
       "      <td>-0.408752</td>\n",
       "      <td>-0.428706</td>\n",
       "      <td>-0.494282</td>\n",
       "    </tr>\n",
       "    <tr>\n",
       "      <th>Oldpeak</th>\n",
       "      <td>0.258612</td>\n",
       "      <td>-0.105734</td>\n",
       "      <td>0.316083</td>\n",
       "      <td>0.164803</td>\n",
       "      <td>0.050148</td>\n",
       "      <td>0.052698</td>\n",
       "      <td>0.114428</td>\n",
       "      <td>-0.160691</td>\n",
       "      <td>-0.408752</td>\n",
       "      <td>1.000000</td>\n",
       "      <td>0.501921</td>\n",
       "      <td>0.403951</td>\n",
       "    </tr>\n",
       "    <tr>\n",
       "      <th>ST_Slope</th>\n",
       "      <td>0.268264</td>\n",
       "      <td>-0.150693</td>\n",
       "      <td>0.379397</td>\n",
       "      <td>0.075162</td>\n",
       "      <td>-0.111471</td>\n",
       "      <td>0.175774</td>\n",
       "      <td>0.078807</td>\n",
       "      <td>-0.343419</td>\n",
       "      <td>-0.428706</td>\n",
       "      <td>0.501921</td>\n",
       "      <td>1.000000</td>\n",
       "      <td>0.558771</td>\n",
       "    </tr>\n",
       "    <tr>\n",
       "      <th>HeartDisease</th>\n",
       "      <td>0.282039</td>\n",
       "      <td>-0.305445</td>\n",
       "      <td>0.536974</td>\n",
       "      <td>0.107589</td>\n",
       "      <td>-0.232741</td>\n",
       "      <td>0.267291</td>\n",
       "      <td>0.061011</td>\n",
       "      <td>-0.400421</td>\n",
       "      <td>-0.494282</td>\n",
       "      <td>0.403951</td>\n",
       "      <td>0.558771</td>\n",
       "      <td>1.000000</td>\n",
       "    </tr>\n",
       "  </tbody>\n",
       "</table>\n",
       "</div>"
      ],
      "text/plain": [
       "                     Age       Sex  ChestPainType  RestingBP  Cholesterol  \\\n",
       "Age             1.000000 -0.055750       0.210128   0.254399    -0.095282   \n",
       "Sex            -0.055750  1.000000      -0.199711  -0.005133     0.200092   \n",
       "ChestPainType   0.210128 -0.199711       1.000000   0.063102    -0.142636   \n",
       "RestingBP       0.254399 -0.005133       0.063102   1.000000     0.100893   \n",
       "Cholesterol    -0.095282  0.200092      -0.142636   0.100893     1.000000   \n",
       "FastingBS       0.198039 -0.120076       0.155795   0.070193    -0.260974   \n",
       "RestingECG      0.213152  0.018343       0.080268   0.097661     0.112095   \n",
       "MaxHR          -0.382045  0.189186      -0.350695  -0.112135     0.235792   \n",
       "ExerciseAngina -0.215793  0.190664      -0.421398  -0.155101     0.034166   \n",
       "Oldpeak         0.258612 -0.105734       0.316083   0.164803     0.050148   \n",
       "ST_Slope        0.268264 -0.150693       0.379397   0.075162    -0.111471   \n",
       "HeartDisease    0.282039 -0.305445       0.536974   0.107589    -0.232741   \n",
       "\n",
       "                FastingBS  RestingECG     MaxHR  ExerciseAngina   Oldpeak  \\\n",
       "Age              0.198039    0.213152 -0.382045       -0.215793  0.258612   \n",
       "Sex             -0.120076    0.018343  0.189186        0.190664 -0.105734   \n",
       "ChestPainType    0.155795    0.080268 -0.350695       -0.421398  0.316083   \n",
       "RestingBP        0.070193    0.097661 -0.112135       -0.155101  0.164803   \n",
       "Cholesterol     -0.260974    0.112095  0.235792        0.034166  0.050148   \n",
       "FastingBS        1.000000    0.050707 -0.131438       -0.060451  0.052698   \n",
       "RestingECG       0.050707    1.000000  0.048552       -0.036119  0.114428   \n",
       "MaxHR           -0.131438    0.048552  1.000000        0.370425 -0.160691   \n",
       "ExerciseAngina  -0.060451   -0.036119  0.370425        1.000000 -0.408752   \n",
       "Oldpeak          0.052698    0.114428 -0.160691       -0.408752  1.000000   \n",
       "ST_Slope         0.175774    0.078807 -0.343419       -0.428706  0.501921   \n",
       "HeartDisease     0.267291    0.061011 -0.400421       -0.494282  0.403951   \n",
       "\n",
       "                ST_Slope  HeartDisease  \n",
       "Age             0.268264      0.282039  \n",
       "Sex            -0.150693     -0.305445  \n",
       "ChestPainType   0.379397      0.536974  \n",
       "RestingBP       0.075162      0.107589  \n",
       "Cholesterol    -0.111471     -0.232741  \n",
       "FastingBS       0.175774      0.267291  \n",
       "RestingECG      0.078807      0.061011  \n",
       "MaxHR          -0.343419     -0.400421  \n",
       "ExerciseAngina -0.428706     -0.494282  \n",
       "Oldpeak         0.501921      0.403951  \n",
       "ST_Slope        1.000000      0.558771  \n",
       "HeartDisease    0.558771      1.000000  "
      ]
     },
     "execution_count": 75,
     "metadata": {},
     "output_type": "execute_result"
    }
   ],
   "source": [
    "c = heart_data.corr()\n",
    "c"
   ]
  },
  {
   "cell_type": "code",
   "execution_count": 76,
   "id": "046d2c5b",
   "metadata": {},
   "outputs": [
    {
     "data": {
      "image/png": "[encoded data removed]",
      "text/plain": [
       "<Figure size 432x288 with 2 Axes>"
      ]
     },
     "metadata": {
      "needs_background": "light"
     },
     "output_type": "display_data"
    }
   ],
   "source": [
    "sns.heatmap(c,annot = False ,cmap = 'Greens')\n",
    "plt.show()"
   ]
  },
  {
   "cell_type": "code",
   "execution_count": 77,
   "id": "509c28b1",
   "metadata": {},
   "outputs": [],
   "source": [
    "X = heart_data.drop(columns='HeartDisease', axis=1)\n",
    "Y = heart_data['HeartDisease']"
   ]
  },
  {
   "cell_type": "code",
   "execution_count": 78,
   "id": "5f0fce2a",
   "metadata": {},
   "outputs": [
    {
     "name": "stdout",
     "output_type": "stream",
     "text": [
      "     Age  Sex  ChestPainType  RestingBP  Cholesterol  FastingBS  RestingECG  \\\n",
      "0     40    0              0        140          289          0           0   \n",
      "1     49    1              1        160          180          0           0   \n",
      "2     37    0              0        130          283          0           1   \n",
      "3     48    1              3        138          214          0           0   \n",
      "4     54    0              1        150          195          0           0   \n",
      "..   ...  ...            ...        ...          ...        ...         ...   \n",
      "913   45    0              2        110          264          0           0   \n",
      "914   68    0              3        144          193          1           0   \n",
      "915   57    0              3        130          131          0           0   \n",
      "916   57    1              0        130          236          0           2   \n",
      "917   38    0              1        138          175          0           0   \n",
      "\n",
      "     MaxHR  ExerciseAngina  Oldpeak  ST_Slope  \n",
      "0      172               1      0.0         0  \n",
      "1      156               1      1.0         1  \n",
      "2       98               1      0.0         0  \n",
      "3      108               0      1.5         1  \n",
      "4      122               1      0.0         0  \n",
      "..     ...             ...      ...       ...  \n",
      "913    132               1      1.2         1  \n",
      "914    141               1      3.4         1  \n",
      "915    115               0      1.2         1  \n",
      "916    174               1      0.0         1  \n",
      "917    173               1      0.0         0  \n",
      "\n",
      "[918 rows x 11 columns]\n"
     ]
    }
   ],
   "source": [
    "print(X)"
   ]
  },
  {
   "cell_type": "code",
   "execution_count": 79,
   "id": "615b2a08",
   "metadata": {},
   "outputs": [
    {
     "name": "stdout",
     "output_type": "stream",
     "text": [
      "0      0\n",
      "1      1\n",
      "2      0\n",
      "3      1\n",
      "4      0\n",
      "      ..\n",
      "913    1\n",
      "914    1\n",
      "915    1\n",
      "916    1\n",
      "917    0\n",
      "Name: HeartDisease, Length: 918, dtype: int64\n"
     ]
    }
   ],
   "source": [
    "print(Y)"
   ]
  },
  {
   "cell_type": "code",
   "execution_count": 80,
   "id": "4b71efe9",
   "metadata": {},
   "outputs": [],
   "source": [
    "X_train, X_test, Y_train, Y_test = train_test_split(X, Y, test_size=0.3, stratify=Y, random_state=2)"
   ]
  },
  {
   "cell_type": "code",
   "execution_count": 81,
   "id": "0ac8cac9",
   "metadata": {},
   "outputs": [
    {
     "name": "stdout",
     "output_type": "stream",
     "text": [
      "(918, 11) (642, 11) (276, 11)\n"
     ]
    }
   ],
   "source": [
    "print(X.shape, X_train.shape, X_test.shape)"
   ]
  },
  {
   "cell_type": "code",
   "execution_count": 82,
   "id": "d675acd7",
   "metadata": {},
   "outputs": [],
   "source": [
    "Y = Y.astype(float)"
   ]
  },
  {
   "cell_type": "code",
   "execution_count": 83,
   "id": "58100156",
   "metadata": {},
   "outputs": [],
   "source": [
    "model = LogisticRegression()"
   ]
  },
  {
   "cell_type": "code",
   "execution_count": 84,
   "id": "c8606e8b",
   "metadata": {},
   "outputs": [
    {
     "data": {
      "text/plain": [
       "(array([[588., 330.,   0.,   0.,   0.,   0.,   0.,   0.,   0.,   0.],\n",
       "        [918.,   0.,   0.,   0.,   0.,   0.,   0.,   0.,   0.,   0.],\n",
       "        [918.,   0.,   0.,   0.,   0.,   0.,   0.,   0.,   0.,   0.],\n",
       "        [  1., 160., 737.,  20.,   0.,   0.,   0.,   0.,   0.,   0.],\n",
       "        [172.,   6.,  67., 310., 260.,  81.,  14.,   3.,   3.,   2.],\n",
       "        [918.,   0.,   0.,   0.,   0.,   0.,   0.,   0.,   0.,   0.],\n",
       "        [918.,   0.,   0.,   0.,   0.,   0.,   0.,   0.,   0.,   0.],\n",
       "        [  0., 220., 661.,  37.,   0.,   0.,   0.,   0.,   0.,   0.],\n",
       "        [918.,   0.,   0.,   0.,   0.,   0.,   0.,   0.,   0.,   0.],\n",
       "        [918.,   0.,   0.,   0.,   0.,   0.,   0.,   0.,   0.,   0.],\n",
       "        [918.,   0.,   0.,   0.,   0.,   0.,   0.,   0.,   0.,   0.]]),\n",
       " array([ -2.6 ,  57.96, 118.52, 179.08, 239.64, 300.2 , 360.76, 421.32,\n",
       "        481.88, 542.44, 603.  ]),\n",
       " <a list of 11 BarContainer objects>)"
      ]
     },
     "execution_count": 84,
     "metadata": {},
     "output_type": "execute_result"
    },
    {
     "data": {
      "image/png": "[encoded data removed]",
      "text/plain": [
       "<Figure size 432x288 with 1 Axes>"
      ]
     },
     "metadata": {
      "needs_background": "light"
     },
     "output_type": "display_data"
    }
   ],
   "source": [
    "plt.hist(X)"
   ]
  },
  {
   "cell_type": "code",
   "execution_count": 85,
   "id": "cd9fa9f0",
   "metadata": {},
   "outputs": [],
   "source": [
    "model = LogisticRegression()"
   ]
  },
  {
   "cell_type": "code",
   "execution_count": 88,
   "id": "4ea4bcbd",
   "metadata": {},
   "outputs": [
    {
     "name": "stderr",
     "output_type": "stream",
     "text": [
      "C:\\Users\\Sakshi\\anaconda3\\lib\\site-packages\\sklearn\\linear_model\\_logistic.py:763: ConvergenceWarning: lbfgs failed to converge (status=1):\n",
      "STOP: TOTAL NO. of ITERATIONS REACHED LIMIT.\n",
      "\n",
      "Increase the number of iterations (max_iter) or scale the data as shown in:\n",
      "    https://scikit-learn.org/stable/modules/preprocessing.html\n",
      "Please also refer to the documentation for alternative solver options:\n",
      "    https://scikit-learn.org/stable/modules/linear_model.html#logistic-regression\n",
      "  n_iter_i = _check_optimize_result(\n"
     ]
    },
    {
     "data": {
      "text/plain": [
       "LogisticRegression()"
      ]
     },
     "execution_count": 88,
     "metadata": {},
     "output_type": "execute_result"
    }
   ],
   "source": [
    "# training the LogisticRegression model with Training data\n",
    "model.fit(X_train, Y_train)"
   ]
  },
  {
   "cell_type": "code",
   "execution_count": 89,
   "id": "576d83ba",
   "metadata": {},
   "outputs": [],
   "source": [
    "# accuracy on training data\n",
    "X_train_prediction = model.predict(X_train)\n",
    "training_data_accuracy = accuracy_score(X_train_prediction, Y_train)"
   ]
  },
  {
   "cell_type": "code",
   "execution_count": 90,
   "id": "49e5f039",
   "metadata": {},
   "outputs": [
    {
     "name": "stdout",
     "output_type": "stream",
     "text": [
      "Accuracy on Training data :  0.8566978193146417\n"
     ]
    }
   ],
   "source": [
    "print('Accuracy on Training data : ', training_data_accuracy)"
   ]
  },
  {
   "cell_type": "code",
   "execution_count": 91,
   "id": "9ee3ecad",
   "metadata": {},
   "outputs": [
    {
     "name": "stdout",
     "output_type": "stream",
     "text": [
      "[[103  20]\n",
      " [ 17 136]]\n"
     ]
    }
   ],
   "source": [
    "# accuracy on test data\n",
    "X_test_prediction = model.predict(X_test)\n",
    "LR_cm = confusion_matrix(Y_test,X_test_prediction)\n",
    "print(LR_cm)"
   ]
  },
  {
   "cell_type": "code",
   "execution_count": 92,
   "id": "5fd24069",
   "metadata": {},
   "outputs": [],
   "source": [
    "test_data_accuracy = accuracy_score(X_test_prediction, Y_test)"
   ]
  },
  {
   "cell_type": "code",
   "execution_count": 93,
   "id": "ae5efccd",
   "metadata": {},
   "outputs": [
    {
     "name": "stdout",
     "output_type": "stream",
     "text": [
      "Accuracy on Test data :  0.8659420289855072\n"
     ]
    }
   ],
   "source": [
    "print('Accuracy on Test data : ', test_data_accuracy)"
   ]
  },
  {
   "cell_type": "code",
   "execution_count": 94,
   "id": "5de3efcd",
   "metadata": {},
   "outputs": [
    {
     "name": "stdout",
     "output_type": "stream",
     "text": [
      "              precision    recall  f1-score   support\n",
      "\n",
      "           0       0.86      0.84      0.85       123\n",
      "           1       0.87      0.89      0.88       153\n",
      "\n",
      "    accuracy                           0.87       276\n",
      "   macro avg       0.87      0.86      0.86       276\n",
      "weighted avg       0.87      0.87      0.87       276\n",
      "\n"
     ]
    }
   ],
   "source": [
    "print(classification_report(Y_test,X_test_prediction))"
   ]
  },
  {
   "cell_type": "code",
   "execution_count": 95,
   "id": "e29435d3",
   "metadata": {},
   "outputs": [
    {
     "name": "stdout",
     "output_type": "stream",
     "text": [
      "[0]\n",
      "The Person does not have a Heart Disease\n"
     ]
    }
   ],
   "source": [
    "input_data = (57,1,0,130,236,0,2,174,1,0.0,1)\n",
    "\n",
    "# change the input data to a numpy array\n",
    "input_data_as_numpy_array= np.asarray(input_data)\n",
    "\n",
    "# reshape the numpy array as we are predicting for only on instance\n",
    "input_data_reshaped = input_data_as_numpy_array.reshape(1,-1)\n",
    "\n",
    "prediction = model.predict(input_data_reshaped)\n",
    "print(prediction)\n",
    "\n",
    "if (prediction[0]== 0):\n",
    "  print('The Person does not have a Heart Disease')\n",
    "else:\n",
    "  print('The Person has Heart Disease')"
   ]
  },
  {
   "cell_type": "code",
   "execution_count": 96,
   "id": "df197e2a",
   "metadata": {},
   "outputs": [],
   "source": [
    "#Decision Tree classification\n",
    "model_DT = DecisionTreeClassifier()"
   ]
  },
  {
   "cell_type": "code",
   "execution_count": 97,
   "id": "36cb9e57",
   "metadata": {},
   "outputs": [
    {
     "data": {
      "text/plain": [
       "DecisionTreeClassifier()"
      ]
     },
     "execution_count": 97,
     "metadata": {},
     "output_type": "execute_result"
    }
   ],
   "source": [
    "#model fitting\n",
    "model_DT.fit(X_train, Y_train)"
   ]
  },
  {
   "cell_type": "code",
   "execution_count": 98,
   "id": "f5883c75",
   "metadata": {},
   "outputs": [],
   "source": [
    "#training of data\n",
    "DT_train_prediction = model_DT.predict(X_train)"
   ]
  },
  {
   "cell_type": "code",
   "execution_count": 99,
   "id": "b270ae2e",
   "metadata": {},
   "outputs": [
    {
     "name": "stdout",
     "output_type": "stream",
     "text": [
      "[[103  20]\n",
      " [ 33 120]]\n"
     ]
    }
   ],
   "source": [
    "DT_cm = confusion_matrix(Y_test,DT_test_prediction)\n",
    "print(DT_cm)"
   ]
  },
  {
   "cell_type": "code",
   "execution_count": 100,
   "id": "50e476d5",
   "metadata": {},
   "outputs": [],
   "source": [
    "DT_train_accuracy = accuracy_score(DT_train_prediction, Y_train)"
   ]
  },
  {
   "cell_type": "code",
   "execution_count": 101,
   "id": "7b117c98",
   "metadata": {},
   "outputs": [
    {
     "name": "stdout",
     "output_type": "stream",
     "text": [
      "Accuracy on decision tree of Training data :  1.0\n"
     ]
    }
   ],
   "source": [
    "print('Accuracy on decision tree of Training data : ', DT_train_accuracy )"
   ]
  },
  {
   "cell_type": "code",
   "execution_count": 102,
   "id": "161d9827",
   "metadata": {},
   "outputs": [],
   "source": [
    "#testing of data\n",
    "\n",
    "DT_test_prediction = model_DT.predict(X_test)\n",
    "DT_test_accuracy = accuracy_score(DT_test_prediction, Y_test)"
   ]
  },
  {
   "cell_type": "code",
   "execution_count": 103,
   "id": "aa19c667",
   "metadata": {},
   "outputs": [
    {
     "name": "stdout",
     "output_type": "stream",
     "text": [
      "Accuracy on decision tree of Testing data :  0.8043478260869565\n"
     ]
    }
   ],
   "source": [
    "print('Accuracy on decision tree of Testing data : ', DT_test_accuracy )\n",
    "\n"
   ]
  },
  {
   "cell_type": "code",
   "execution_count": 104,
   "id": "c6fc968d",
   "metadata": {},
   "outputs": [
    {
     "name": "stdout",
     "output_type": "stream",
     "text": [
      "              precision    recall  f1-score   support\n",
      "\n",
      "           0       0.75      0.85      0.79       123\n",
      "           1       0.86      0.77      0.81       153\n",
      "\n",
      "    accuracy                           0.80       276\n",
      "   macro avg       0.80      0.81      0.80       276\n",
      "weighted avg       0.81      0.80      0.80       276\n",
      "\n"
     ]
    }
   ],
   "source": [
    "print(classification_report(Y_test,DT_test_prediction))"
   ]
  },
  {
   "cell_type": "code",
   "execution_count": 105,
   "id": "b9d8498f",
   "metadata": {},
   "outputs": [
    {
     "name": "stdout",
     "output_type": "stream",
     "text": [
      "[1]\n",
      "The Person has Heart Disease\n"
     ]
    }
   ],
   "source": [
    "input_data = (57,1,0,130,236,0,2,174,1,0.0,1)\n",
    "\n",
    "# change the input data to a numpy array\n",
    "input_data_as_numpy_array= np.asarray(input_data)\n",
    "\n",
    "# reshape the numpy array as we are predicting for only on instance\n",
    "input_data_reshaped = input_data_as_numpy_array.reshape(1,-1)\n",
    "\n",
    "prediction = model_DT.predict(input_data_reshaped)\n",
    "print(prediction)\n",
    "\n",
    "if (prediction[0]== 0):\n",
    "  print('The Person does not have a Heart Disease')\n",
    "else:\n",
    "  print('The Person has Heart Disease')"
   ]
  },
  {
   "cell_type": "code",
   "execution_count": 106,
   "id": "3075303c",
   "metadata": {},
   "outputs": [],
   "source": [
    "#Random Forest Classifier\n",
    "\n",
    "model_RF = RandomForestClassifier()"
   ]
  },
  {
   "cell_type": "code",
   "execution_count": 107,
   "id": "4a0c5004",
   "metadata": {},
   "outputs": [
    {
     "data": {
      "text/plain": [
       "RandomForestClassifier()"
      ]
     },
     "execution_count": 107,
     "metadata": {},
     "output_type": "execute_result"
    }
   ],
   "source": [
    "#model fitting\n",
    "model_RF.fit(X_train, Y_train)"
   ]
  },
  {
   "cell_type": "code",
   "execution_count": 108,
   "id": "26e9490b",
   "metadata": {},
   "outputs": [],
   "source": [
    "#training of data\n",
    "\n",
    "RF_train_prediction = model_RF.predict(X_train)\n"
   ]
  },
  {
   "cell_type": "code",
   "execution_count": 109,
   "id": "bfdad5b4",
   "metadata": {},
   "outputs": [
    {
     "name": "stdout",
     "output_type": "stream",
     "text": [
      "[[101  22]\n",
      " [ 10 143]]\n"
     ]
    }
   ],
   "source": [
    "RF_cm = confusion_matrix(Y_test,RF_test_prediction)\n",
    "print(RF_cm)"
   ]
  },
  {
   "cell_type": "code",
   "execution_count": 110,
   "id": "ae9d7861",
   "metadata": {},
   "outputs": [],
   "source": [
    "RF_train_accuracy = accuracy_score(RF_train_prediction, Y_train)"
   ]
  },
  {
   "cell_type": "code",
   "execution_count": 111,
   "id": "c717457a",
   "metadata": {},
   "outputs": [
    {
     "name": "stdout",
     "output_type": "stream",
     "text": [
      "Accuracy on Random Forest of Training data :  1.0\n"
     ]
    }
   ],
   "source": [
    "print('Accuracy on Random Forest of Training data : ', RF_train_accuracy )"
   ]
  },
  {
   "cell_type": "code",
   "execution_count": 112,
   "id": "bd4634a2",
   "metadata": {},
   "outputs": [],
   "source": [
    "#testing of data\n",
    "\n",
    "RF_test_prediction = model_RF.predict(X_test)\n",
    "RF_test_accuracy = accuracy_score(RF_test_prediction, Y_test)"
   ]
  },
  {
   "cell_type": "code",
   "execution_count": 113,
   "id": "50554730",
   "metadata": {},
   "outputs": [
    {
     "name": "stdout",
     "output_type": "stream",
     "text": [
      "Accuracy on Random Forest of Testing data :  0.8804347826086957\n"
     ]
    }
   ],
   "source": [
    "print('Accuracy on Random Forest of Testing data : ', RF_test_accuracy )"
   ]
  },
  {
   "cell_type": "code",
   "execution_count": 114,
   "id": "1116874a",
   "metadata": {},
   "outputs": [
    {
     "name": "stdout",
     "output_type": "stream",
     "text": [
      "              precision    recall  f1-score   support\n",
      "\n",
      "           0       0.90      0.82      0.86       123\n",
      "           1       0.87      0.93      0.90       153\n",
      "\n",
      "    accuracy                           0.88       276\n",
      "   macro avg       0.88      0.87      0.88       276\n",
      "weighted avg       0.88      0.88      0.88       276\n",
      "\n"
     ]
    }
   ],
   "source": [
    "print(classification_report(Y_test,RF_test_prediction))"
   ]
  },
  {
   "cell_type": "code",
   "execution_count": 115,
   "id": "7d3d1998",
   "metadata": {},
   "outputs": [
    {
     "name": "stdout",
     "output_type": "stream",
     "text": [
      "[1]\n",
      "The Person has Heart Disease\n"
     ]
    }
   ],
   "source": [
    "input_data = (68,0,3,144,193,1,0,141,1,3.4,1)\n",
    "\n",
    "# change the input data to a numpy array\n",
    "input_data_as_numpy_array= np.asarray(input_data)\n",
    "\n",
    "# reshape the numpy array as we are predicting for only on instance\n",
    "input_data_reshaped = input_data_as_numpy_array.reshape(1,-1)\n",
    "\n",
    "prediction = model_RF.predict(input_data_reshaped)\n",
    "print(prediction)\n",
    "\n",
    "if (prediction[0]== 0):\n",
    "  print('The Person does not have a Heart Disease')\n",
    "else:\n",
    "  print('The Person has Heart Disease')"
   ]
  },
  {
   "cell_type": "code",
   "execution_count": 119,
   "id": "50f46e8b",
   "metadata": {},
   "outputs": [
    {
     "name": "stdout",
     "output_type": "stream",
     "text": [
      "Feature: 0, Score: 0.08270\n",
      "Feature: 1, Score: 0.03438\n",
      "Feature: 2, Score: 0.10171\n",
      "Feature: 3, Score: 0.07409\n",
      "Feature: 4, Score: 0.10318\n",
      "Feature: 5, Score: 0.02136\n",
      "Feature: 6, Score: 0.02357\n",
      "Feature: 7, Score: 0.11253\n",
      "Feature: 8, Score: 0.12112\n",
      "Feature: 9, Score: 0.10643\n",
      "Feature: 10, Score: 0.21892\n"
     ]
    }
   ],
   "source": [
    "#Feature importance\n",
    "importance = model_RF.feature_importances_\n",
    "\n",
    "#summarize feature importance\n",
    "for i, v in enumerate(importance):\n",
    "    print('Feature: %0d, Score: %.5f' %(i,v))"
   ]
  },
  {
   "cell_type": "code",
   "execution_count": 123,
   "id": "9831d868",
   "metadata": {},
   "outputs": [
    {
     "data": {
      "text/plain": [
       "<AxesSubplot:>"
      ]
     },
     "execution_count": 123,
     "metadata": {},
     "output_type": "execute_result"
    },
    {
     "data": {
      "image/png": "[encoded data removed]",
      "text/plain": [
       "<Figure size 432x288 with 1 Axes>"
      ]
     },
     "metadata": {
      "needs_background": "light"
     },
     "output_type": "display_data"
    }
   ],
   "source": [
    "index = heart_data.columns[:-1]\n",
    "importance = pd.Series(model_RF.feature_importances_, index=index)\n",
    "importance.nlargest(11).plot(kind='bar', colormap='winter')"
   ]
  },
  {
   "cell_type": "code",
   "execution_count": 116,
   "id": "25061704",
   "metadata": {},
   "outputs": [],
   "source": [
    "import pickle"
   ]
  },
  {
   "cell_type": "code",
   "execution_count": 117,
   "id": "e6ac2960",
   "metadata": {},
   "outputs": [],
   "source": [
    "#saving the model \n",
    "filename = 'Heart_Disease_Model.sav'\n",
    "pickle.dump(model_RF,open(filename,'wb'))"
   ]
  },
  {
   "cell_type": "code",
   "execution_count": 118,
   "id": "a373fab5",
   "metadata": {},
   "outputs": [],
   "source": [
    "#loading the saved model\n",
    "loaded_model = pickle.load(open('Heart_Disease_Model.sav','rb'))"
   ]
  },
  {
   "cell_type": "code",
   "execution_count": 203,
   "id": "8cd93d7d",
   "metadata": {},
   "outputs": [
    {
     "name": "stdout",
     "output_type": "stream",
     "text": [
      "[1]\n",
      "The Person has Heart Disease\n"
     ]
    }
   ],
   "source": [
    "input_data = (68,0,3,144,193,1,0,141,1,3.4,1)\n",
    "\n",
    "# change the input data to a numpy array\n",
    "input_data_as_numpy_array= np.asarray(input_data)\n",
    "\n",
    "# reshape the numpy array as we are predicting for only on instance\n",
    "input_data_reshaped = input_data_as_numpy_array.reshape(1,-1)\n",
    "\n",
    "prediction = loaded_model.predict(input_data_reshaped)\n",
    "print(prediction)\n",
    "\n",
    "if (prediction[0]== 0):\n",
    "  print('The Person does not have a Heart Disease')\n",
    "else:\n",
    "  print('The Person has Heart Disease')"
   ]
  },
  {
   "cell_type": "code",
   "execution_count": null,
   "id": "7d53a6c0",
   "metadata": {},
   "outputs": [],
   "source": []
  }
 ],
 "metadata": {
  "kernelspec": {
   "display_name": "Python 3",
   "language": "python",
   "name": "python3"
  },
  "language_info": {
   "codemirror_mode": {
    "name": "ipython",
    "version": 3
   },
   "file_extension": ".py",
   "mimetype": "text/x-python",
   "name": "python",
   "nbconvert_exporter": "python",
   "pygments_lexer": "ipython3",
   "version": "3.8.8"
  }
 },
 "nbformat": 4,
 "nbformat_minor": 5
}
